{
 "cells": [
  {
   "cell_type": "markdown",
   "id": "48fde0c4",
   "metadata": {},
   "source": [
    "## Website Traffic Analysis"
   ]
  },
  {
   "cell_type": "markdown",
   "id": "bfe0a0a1",
   "metadata": {},
   "source": [
    "The goal of this project is to understand this traffic better, in particular the volume and distribution of events, and to develop ideas how to increase the links' clickrates. With that in mind, I will analyze the data using the Python libraries Pandas and SciPy."
   ]
  },
  {
   "cell_type": "markdown",
   "id": "027f20b5",
   "metadata": {},
   "source": [
    "### Importing Required Packages"
   ]
  },
  {
   "cell_type": "code",
   "execution_count": 67,
   "id": "1c28e025",
   "metadata": {},
   "outputs": [],
   "source": [
    "import pandas as pd\n",
    "import numpy as np\n",
    "from scipy import stats"
   ]
  },
  {
   "cell_type": "code",
   "execution_count": 40,
   "id": "3b6be7af",
   "metadata": {},
   "outputs": [],
   "source": [
    "traffic = pd.read_csv('traffic.csv')"
   ]
  },
  {
   "cell_type": "code",
   "execution_count": 41,
   "id": "455cbbc5",
   "metadata": {},
   "outputs": [
    {
     "data": {
      "text/html": [
       "<div>\n",
       "<style scoped>\n",
       "    .dataframe tbody tr th:only-of-type {\n",
       "        vertical-align: middle;\n",
       "    }\n",
       "\n",
       "    .dataframe tbody tr th {\n",
       "        vertical-align: top;\n",
       "    }\n",
       "\n",
       "    .dataframe thead th {\n",
       "        text-align: right;\n",
       "    }\n",
       "</style>\n",
       "<table border=\"1\" class=\"dataframe\">\n",
       "  <thead>\n",
       "    <tr style=\"text-align: right;\">\n",
       "      <th></th>\n",
       "      <th>event</th>\n",
       "      <th>date</th>\n",
       "      <th>country</th>\n",
       "      <th>city</th>\n",
       "      <th>artist</th>\n",
       "      <th>album</th>\n",
       "      <th>track</th>\n",
       "      <th>isrc</th>\n",
       "      <th>linkid</th>\n",
       "    </tr>\n",
       "  </thead>\n",
       "  <tbody>\n",
       "    <tr>\n",
       "      <th>0</th>\n",
       "      <td>click</td>\n",
       "      <td>2021-08-21</td>\n",
       "      <td>Saudi Arabia</td>\n",
       "      <td>Jeddah</td>\n",
       "      <td>Tesher</td>\n",
       "      <td>Jalebi Baby</td>\n",
       "      <td>Jalebi Baby</td>\n",
       "      <td>QZNWQ2070741</td>\n",
       "      <td>2d896d31-97b6-4869-967b-1c5fb9cd4bb8</td>\n",
       "    </tr>\n",
       "    <tr>\n",
       "      <th>1</th>\n",
       "      <td>click</td>\n",
       "      <td>2021-08-21</td>\n",
       "      <td>Saudi Arabia</td>\n",
       "      <td>Jeddah</td>\n",
       "      <td>Tesher</td>\n",
       "      <td>Jalebi Baby</td>\n",
       "      <td>Jalebi Baby</td>\n",
       "      <td>QZNWQ2070741</td>\n",
       "      <td>2d896d31-97b6-4869-967b-1c5fb9cd4bb8</td>\n",
       "    </tr>\n",
       "    <tr>\n",
       "      <th>2</th>\n",
       "      <td>click</td>\n",
       "      <td>2021-08-21</td>\n",
       "      <td>India</td>\n",
       "      <td>Ludhiana</td>\n",
       "      <td>Reyanna Maria</td>\n",
       "      <td>So Pretty</td>\n",
       "      <td>So Pretty</td>\n",
       "      <td>USUM72100871</td>\n",
       "      <td>23199824-9cf5-4b98-942a-34965c3b0cc2</td>\n",
       "    </tr>\n",
       "    <tr>\n",
       "      <th>3</th>\n",
       "      <td>click</td>\n",
       "      <td>2021-08-21</td>\n",
       "      <td>France</td>\n",
       "      <td>Unknown</td>\n",
       "      <td>Simone &amp; Simaria, Sebastian Yatra</td>\n",
       "      <td>No Llores Más</td>\n",
       "      <td>No Llores Más</td>\n",
       "      <td>BRUM72003904</td>\n",
       "      <td>35573248-4e49-47c7-af80-08a960fa74cd</td>\n",
       "    </tr>\n",
       "    <tr>\n",
       "      <th>4</th>\n",
       "      <td>click</td>\n",
       "      <td>2021-08-21</td>\n",
       "      <td>Maldives</td>\n",
       "      <td>Malé</td>\n",
       "      <td>Tesher</td>\n",
       "      <td>Jalebi Baby</td>\n",
       "      <td>Jalebi Baby</td>\n",
       "      <td>QZNWQ2070741</td>\n",
       "      <td>2d896d31-97b6-4869-967b-1c5fb9cd4bb8</td>\n",
       "    </tr>\n",
       "  </tbody>\n",
       "</table>\n",
       "</div>"
      ],
      "text/plain": [
       "   event        date       country      city  \\\n",
       "0  click  2021-08-21  Saudi Arabia    Jeddah   \n",
       "1  click  2021-08-21  Saudi Arabia    Jeddah   \n",
       "2  click  2021-08-21         India  Ludhiana   \n",
       "3  click  2021-08-21        France   Unknown   \n",
       "4  click  2021-08-21      Maldives      Malé   \n",
       "\n",
       "                              artist          album          track  \\\n",
       "0                             Tesher    Jalebi Baby    Jalebi Baby   \n",
       "1                             Tesher    Jalebi Baby    Jalebi Baby   \n",
       "2                      Reyanna Maria      So Pretty      So Pretty   \n",
       "3  Simone & Simaria, Sebastian Yatra  No Llores Más  No Llores Más   \n",
       "4                             Tesher    Jalebi Baby    Jalebi Baby   \n",
       "\n",
       "           isrc                                linkid  \n",
       "0  QZNWQ2070741  2d896d31-97b6-4869-967b-1c5fb9cd4bb8  \n",
       "1  QZNWQ2070741  2d896d31-97b6-4869-967b-1c5fb9cd4bb8  \n",
       "2  USUM72100871  23199824-9cf5-4b98-942a-34965c3b0cc2  \n",
       "3  BRUM72003904  35573248-4e49-47c7-af80-08a960fa74cd  \n",
       "4  QZNWQ2070741  2d896d31-97b6-4869-967b-1c5fb9cd4bb8  "
      ]
     },
     "execution_count": 41,
     "metadata": {},
     "output_type": "execute_result"
    }
   ],
   "source": [
    "traffic.head()"
   ]
  },
  {
   "cell_type": "code",
   "execution_count": 5,
   "id": "fa1aa033",
   "metadata": {},
   "outputs": [
    {
     "name": "stdout",
     "output_type": "stream",
     "text": [
      "<class 'pandas.core.frame.DataFrame'>\n",
      "RangeIndex: 226278 entries, 0 to 226277\n",
      "Data columns (total 9 columns):\n",
      " #   Column   Non-Null Count   Dtype \n",
      "---  ------   --------------   ----- \n",
      " 0   event    226278 non-null  object\n",
      " 1   date     226278 non-null  object\n",
      " 2   country  226267 non-null  object\n",
      " 3   city     226267 non-null  object\n",
      " 4   artist   226241 non-null  object\n",
      " 5   album    226273 non-null  object\n",
      " 6   track    226273 non-null  object\n",
      " 7   isrc     219157 non-null  object\n",
      " 8   linkid   226278 non-null  object\n",
      "dtypes: object(9)\n",
      "memory usage: 15.5+ MB\n"
     ]
    }
   ],
   "source": [
    "traffic.info()"
   ]
  },
  {
   "cell_type": "markdown",
   "id": "0a5803e1",
   "metadata": {},
   "source": [
    "As seen here, there are different events associated to what looks like data related to song artist and their albums and tracks. The link is accessed from different geographic locations. Let's find out more about each attributes."
   ]
  },
  {
   "cell_type": "code",
   "execution_count": 6,
   "id": "951aa5ed",
   "metadata": {},
   "outputs": [
    {
     "data": {
      "text/plain": [
       "event\n",
       "pageview    142015\n",
       "click        55732\n",
       "preview      28531\n",
       "Name: count, dtype: int64"
      ]
     },
     "execution_count": 6,
     "metadata": {},
     "output_type": "execute_result"
    }
   ],
   "source": [
    "traffic['event'].value_counts()"
   ]
  },
  {
   "cell_type": "markdown",
   "id": "5cf2eae3",
   "metadata": {},
   "source": [
    "The even attribute has 3 uniques values: click, preview, and pageview."
   ]
  },
  {
   "cell_type": "code",
   "execution_count": 7,
   "id": "e06404a6",
   "metadata": {},
   "outputs": [
    {
     "data": {
      "text/plain": [
       "date\n",
       "2021-08-19    35361\n",
       "2021-08-20    34112\n",
       "2021-08-21    34083\n",
       "2021-08-22    32633\n",
       "2021-08-25    30447\n",
       "2021-08-24    29834\n",
       "2021-08-23    29808\n",
       "Name: count, dtype: int64"
      ]
     },
     "execution_count": 7,
     "metadata": {},
     "output_type": "execute_result"
    }
   ],
   "source": [
    "traffic['date'].value_counts()"
   ]
  },
  {
   "cell_type": "markdown",
   "id": "1be14c05",
   "metadata": {},
   "source": [
    "The traffic data is spanned across 7 days, from 2021-08-19 to 2021-08-25"
   ]
  },
  {
   "cell_type": "code",
   "execution_count": 8,
   "id": "7411fa95",
   "metadata": {},
   "outputs": [
    {
     "data": {
      "text/plain": [
       "country\n",
       "Saudi Arabia     47334\n",
       "India            42992\n",
       "United States    32558\n",
       "France           15661\n",
       "Iraq              8260\n",
       "                 ...  \n",
       "Samoa                2\n",
       "Macao                2\n",
       "Afghanistan          2\n",
       "Lesotho              1\n",
       "Sint Maarten         1\n",
       "Name: count, Length: 211, dtype: int64"
      ]
     },
     "execution_count": 8,
     "metadata": {},
     "output_type": "execute_result"
    }
   ],
   "source": [
    "traffic['country'].value_counts()"
   ]
  },
  {
   "cell_type": "markdown",
   "id": "294a4f45",
   "metadata": {},
   "source": [
    "The data is spanned across 211 countries."
   ]
  },
  {
   "cell_type": "code",
   "execution_count": 9,
   "id": "ef87c93b",
   "metadata": {},
   "outputs": [
    {
     "data": {
      "text/plain": [
       "artist\n",
       "Tesher                                                          40841\n",
       "Anne-Marie                                                      10650\n",
       "Tundra Beats                                                     9751\n",
       "Surf Mesa, Emilee                                                7533\n",
       "DMNDS, Strange Fruits Music, Fallen Roses, Lujavo, Nito-Onna     5512\n",
       "                                                                ...  \n",
       "Sterl Gotti                                                         1\n",
       "Alix Page                                                           1\n",
       "Mariah Angeliq                                                      1\n",
       "Kuttem Reese                                                        1\n",
       "Kiiara                                                              1\n",
       "Name: count, Length: 2419, dtype: int64"
      ]
     },
     "execution_count": 9,
     "metadata": {},
     "output_type": "execute_result"
    }
   ],
   "source": [
    "traffic['artist'].value_counts()"
   ]
  },
  {
   "cell_type": "markdown",
   "id": "7efbd955",
   "metadata": {},
   "source": [
    "Among 2419 Artists."
   ]
  },
  {
   "cell_type": "markdown",
   "id": "847d99f3",
   "metadata": {},
   "source": [
    "### Data Cleaning"
   ]
  },
  {
   "cell_type": "markdown",
   "id": "a6ab299a",
   "metadata": {},
   "source": [
    "Let's check for null values"
   ]
  },
  {
   "cell_type": "code",
   "execution_count": 10,
   "id": "5f7ad2e2",
   "metadata": {},
   "outputs": [
    {
     "data": {
      "text/plain": [
       "event         0\n",
       "date          0\n",
       "country      11\n",
       "city         11\n",
       "artist       37\n",
       "album         5\n",
       "track         5\n",
       "isrc       7121\n",
       "linkid        0\n",
       "dtype: int64"
      ]
     },
     "execution_count": 10,
     "metadata": {},
     "output_type": "execute_result"
    }
   ],
   "source": [
    "traffic.isnull().sum()"
   ]
  },
  {
   "cell_type": "markdown",
   "id": "efaffded",
   "metadata": {},
   "source": [
    "There are few null values in our data, however, for the moment we will not deal with null values and continue exploring the data."
   ]
  },
  {
   "cell_type": "markdown",
   "id": "f6afd5c3",
   "metadata": {},
   "source": [
    "We should check for duplicated rows as that will produce incorrect results."
   ]
  },
  {
   "cell_type": "code",
   "execution_count": 11,
   "id": "e884ffd2",
   "metadata": {},
   "outputs": [],
   "source": [
    "traffic_duplicate = traffic.drop_duplicates()"
   ]
  },
  {
   "cell_type": "markdown",
   "id": "871df103",
   "metadata": {},
   "source": [
    "## Exploratory Analysis"
   ]
  },
  {
   "cell_type": "markdown",
   "id": "d167a4a7",
   "metadata": {},
   "source": [
    "### 1. Let's find out the number of page views per day for the website"
   ]
  },
  {
   "cell_type": "code",
   "execution_count": 12,
   "id": "d5d8a0d5",
   "metadata": {},
   "outputs": [
    {
     "data": {
      "text/plain": [
       "event\n",
       "pageview    73360\n",
       "click       32499\n",
       "preview     16708\n",
       "Name: count, dtype: int64"
      ]
     },
     "execution_count": 12,
     "metadata": {},
     "output_type": "execute_result"
    }
   ],
   "source": [
    "traffic_duplicate['event'].value_counts()"
   ]
  },
  {
   "cell_type": "markdown",
   "id": "d7d5f1ec",
   "metadata": {},
   "source": [
    "We see there are 73360 pageview events in our data, now let's see how many per day."
   ]
  },
  {
   "cell_type": "code",
   "execution_count": 13,
   "id": "2bafeb91",
   "metadata": {},
   "outputs": [
    {
     "data": {
      "text/plain": [
       "date\n",
       "2021-08-19    13006\n",
       "2021-08-20    11088\n",
       "2021-08-21     9939\n",
       "2021-08-22     9982\n",
       "2021-08-23     9722\n",
       "2021-08-24     9705\n",
       "2021-08-25     9918\n",
       "Name: event, dtype: int64"
      ]
     },
     "execution_count": 13,
     "metadata": {},
     "output_type": "execute_result"
    }
   ],
   "source": [
    "traffic_duplicate[traffic_duplicate['event'] == 'pageview'].groupby(by='date')['event'].count()"
   ]
  },
  {
   "cell_type": "markdown",
   "id": "a084652d",
   "metadata": {},
   "source": [
    "### 2. Find the number of clicks and preview per day"
   ]
  },
  {
   "cell_type": "code",
   "execution_count": 14,
   "id": "9e3fabd0",
   "metadata": {},
   "outputs": [
    {
     "data": {
      "text/plain": [
       "{'click', 'preview'}"
      ]
     },
     "execution_count": 14,
     "metadata": {},
     "output_type": "execute_result"
    }
   ],
   "source": [
    "# Create a events variable that stores all the events\n",
    "events = set(traffic_duplicate['event'].unique())\n",
    "\n",
    "# Remove 'pageview' event as we have already done that\n",
    "events.remove('pageview')\n",
    "events"
   ]
  },
  {
   "cell_type": "markdown",
   "id": "d7c6e5a2",
   "metadata": {},
   "source": [
    "Now let's print the number of events per day"
   ]
  },
  {
   "cell_type": "code",
   "execution_count": 15,
   "id": "5fb7b7e5",
   "metadata": {},
   "outputs": [
    {
     "name": "stdout",
     "output_type": "stream",
     "text": [
      "Total number of click events is 32499 \n",
      "\n",
      "click event per day is:\n",
      "\n",
      "date\n",
      "2021-08-19    5860\n",
      "2021-08-20    4999\n",
      "2021-08-21    4279\n",
      "2021-08-22    4421\n",
      "2021-08-23    4314\n",
      "2021-08-24    4231\n",
      "2021-08-25    4395\n",
      "Name: event, dtype: int64 \n",
      "\n",
      "Total number of preview events is 16708 \n",
      "\n",
      "preview event per day is:\n",
      "\n",
      "date\n",
      "2021-08-19    2290\n",
      "2021-08-20    2449\n",
      "2021-08-21    2483\n",
      "2021-08-22    2524\n",
      "2021-08-23    2379\n",
      "2021-08-24    2355\n",
      "2021-08-25    2228\n",
      "Name: event, dtype: int64 \n",
      "\n"
     ]
    }
   ],
   "source": [
    "for recorded_event in events:\n",
    "    # First let's get the total number of events\n",
    "    total_events = traffic_duplicate[traffic_duplicate['event'] == recorded_event].shape[0]\n",
    "    print(\"Total number of\", recorded_event, \"events is\", total_events, \"\\n\")\n",
    "    \n",
    "    # Group by days\n",
    "    group_set = traffic_duplicate[traffic_duplicate['event'] == recorded_event].groupby(by='date')['event'].count()\n",
    "    print(recorded_event, \"event per day is:\\n\")\n",
    "    print(group_set,\"\\n\")"
   ]
  },
  {
   "cell_type": "markdown",
   "id": "d835cdee",
   "metadata": {},
   "source": [
    "### 3. Now let's understand which countries did the pageviews come from.\n",
    "To do this we have to keep in mind following things:\n",
    "1. Filter the data only for \"pageview\" events.\n",
    "2. Take care of null values in country column."
   ]
  },
  {
   "cell_type": "code",
   "execution_count": 78,
   "id": "bf874713",
   "metadata": {},
   "outputs": [
    {
     "data": {
      "text/html": [
       "<div>\n",
       "<style scoped>\n",
       "    .dataframe tbody tr th:only-of-type {\n",
       "        vertical-align: middle;\n",
       "    }\n",
       "\n",
       "    .dataframe tbody tr th {\n",
       "        vertical-align: top;\n",
       "    }\n",
       "\n",
       "    .dataframe thead th {\n",
       "        text-align: right;\n",
       "    }\n",
       "</style>\n",
       "<table border=\"1\" class=\"dataframe\">\n",
       "  <thead>\n",
       "    <tr style=\"text-align: right;\">\n",
       "      <th></th>\n",
       "      <th>Country</th>\n",
       "    </tr>\n",
       "  </thead>\n",
       "  <tbody>\n",
       "    <tr>\n",
       "      <th>0</th>\n",
       "      <td>Saudi Arabia</td>\n",
       "    </tr>\n",
       "    <tr>\n",
       "      <th>1</th>\n",
       "      <td>United States</td>\n",
       "    </tr>\n",
       "    <tr>\n",
       "      <th>2</th>\n",
       "      <td>Ireland</td>\n",
       "    </tr>\n",
       "    <tr>\n",
       "      <th>3</th>\n",
       "      <td>United Kingdom</td>\n",
       "    </tr>\n",
       "    <tr>\n",
       "      <th>4</th>\n",
       "      <td>France</td>\n",
       "    </tr>\n",
       "    <tr>\n",
       "      <th>...</th>\n",
       "      <td>...</td>\n",
       "    </tr>\n",
       "    <tr>\n",
       "      <th>206</th>\n",
       "      <td>Afghanistan</td>\n",
       "    </tr>\n",
       "    <tr>\n",
       "      <th>207</th>\n",
       "      <td>Central African Republic</td>\n",
       "    </tr>\n",
       "    <tr>\n",
       "      <th>208</th>\n",
       "      <td>Guernsey</td>\n",
       "    </tr>\n",
       "    <tr>\n",
       "      <th>209</th>\n",
       "      <td>Sint Maarten</td>\n",
       "    </tr>\n",
       "    <tr>\n",
       "      <th>210</th>\n",
       "      <td>Saint Martin</td>\n",
       "    </tr>\n",
       "  </tbody>\n",
       "</table>\n",
       "<p>211 rows × 1 columns</p>\n",
       "</div>"
      ],
      "text/plain": [
       "                      Country\n",
       "0                Saudi Arabia\n",
       "1               United States\n",
       "2                     Ireland\n",
       "3              United Kingdom\n",
       "4                      France\n",
       "..                        ...\n",
       "206               Afghanistan\n",
       "207  Central African Republic\n",
       "208                  Guernsey\n",
       "209              Sint Maarten\n",
       "210              Saint Martin\n",
       "\n",
       "[211 rows x 1 columns]"
      ]
     },
     "execution_count": 78,
     "metadata": {},
     "output_type": "execute_result"
    }
   ],
   "source": [
    "# Create a new variable that has only pageview events\n",
    "traffic_pageview = traffic_duplicate[traffic_duplicate['event']=='pageview']\n",
    "\n",
    "# Drop null values and print all the unique countries\n",
    "pd.DataFrame(data = traffic_pageview['country'].dropna().unique(), columns=[\"Country\"])"
   ]
  },
  {
   "cell_type": "markdown",
   "id": "602071f5",
   "metadata": {},
   "source": [
    "### 4. Finding the overall clickrate (clicks/pageviews)"
   ]
  },
  {
   "cell_type": "markdown",
   "id": "52b3693c",
   "metadata": {},
   "source": [
    "We can understand how many times a link was accessed after the viewing the page. This metric can help us understand the success of website advertising. We will compelete it in following steps:\n",
    "\n",
    "1. Find the number of times each link is clicked.\n",
    "2. Find the number of times each link is viewed.\n",
    "3. Merge both dataframes on the same linkid which will give us count of clicks and views per each link."
   ]
  },
  {
   "cell_type": "code",
   "execution_count": 17,
   "id": "27da1a3e",
   "metadata": {},
   "outputs": [
    {
     "data": {
      "text/html": [
       "<div>\n",
       "<style scoped>\n",
       "    .dataframe tbody tr th:only-of-type {\n",
       "        vertical-align: middle;\n",
       "    }\n",
       "\n",
       "    .dataframe tbody tr th {\n",
       "        vertical-align: top;\n",
       "    }\n",
       "\n",
       "    .dataframe thead th {\n",
       "        text-align: right;\n",
       "    }\n",
       "</style>\n",
       "<table border=\"1\" class=\"dataframe\">\n",
       "  <thead>\n",
       "    <tr style=\"text-align: right;\">\n",
       "      <th></th>\n",
       "      <th>linkid</th>\n",
       "      <th>clicks</th>\n",
       "    </tr>\n",
       "  </thead>\n",
       "  <tbody>\n",
       "    <tr>\n",
       "      <th>0</th>\n",
       "      <td>00126b32-0c35-507b-981c-02c80d2aa8e7</td>\n",
       "      <td>2</td>\n",
       "    </tr>\n",
       "    <tr>\n",
       "      <th>1</th>\n",
       "      <td>004b9724-abca-5481-b6e9-6148a7ca00a5</td>\n",
       "      <td>1</td>\n",
       "    </tr>\n",
       "    <tr>\n",
       "      <th>2</th>\n",
       "      <td>0063a982-41cd-5629-96d0-e1c4dd72ea11</td>\n",
       "      <td>2</td>\n",
       "    </tr>\n",
       "    <tr>\n",
       "      <th>3</th>\n",
       "      <td>006af6a0-1f0d-4b0c-93bf-756af9071c06</td>\n",
       "      <td>8</td>\n",
       "    </tr>\n",
       "    <tr>\n",
       "      <th>4</th>\n",
       "      <td>00759b81-3f04-4a61-b934-f8fb3185f4a0</td>\n",
       "      <td>3</td>\n",
       "    </tr>\n",
       "  </tbody>\n",
       "</table>\n",
       "</div>"
      ],
      "text/plain": [
       "                                 linkid  clicks\n",
       "0  00126b32-0c35-507b-981c-02c80d2aa8e7       2\n",
       "1  004b9724-abca-5481-b6e9-6148a7ca00a5       1\n",
       "2  0063a982-41cd-5629-96d0-e1c4dd72ea11       2\n",
       "3  006af6a0-1f0d-4b0c-93bf-756af9071c06       8\n",
       "4  00759b81-3f04-4a61-b934-f8fb3185f4a0       3"
      ]
     },
     "execution_count": 17,
     "metadata": {},
     "output_type": "execute_result"
    }
   ],
   "source": [
    "# Filter click events and groupby linkid to get the count\n",
    "link_clicks = traffic[traffic['event']=='click'].groupby(by='linkid')['event'].count().reset_index()\n",
    "\n",
    "# Renaming the columns\n",
    "link_clicks = link_clicks.rename(columns={\n",
    "    \"event\":\"clicks\"\n",
    "})\n",
    "\n",
    "link_clicks.head()"
   ]
  },
  {
   "cell_type": "code",
   "execution_count": 32,
   "id": "079262e9",
   "metadata": {},
   "outputs": [
    {
     "data": {
      "text/html": [
       "<div>\n",
       "<style scoped>\n",
       "    .dataframe tbody tr th:only-of-type {\n",
       "        vertical-align: middle;\n",
       "    }\n",
       "\n",
       "    .dataframe tbody tr th {\n",
       "        vertical-align: top;\n",
       "    }\n",
       "\n",
       "    .dataframe thead th {\n",
       "        text-align: right;\n",
       "    }\n",
       "</style>\n",
       "<table border=\"1\" class=\"dataframe\">\n",
       "  <thead>\n",
       "    <tr style=\"text-align: right;\">\n",
       "      <th></th>\n",
       "      <th>linkid</th>\n",
       "      <th>views</th>\n",
       "    </tr>\n",
       "  </thead>\n",
       "  <tbody>\n",
       "    <tr>\n",
       "      <th>0</th>\n",
       "      <td>00073307-ae96-5089-a117-4783afb42f8e</td>\n",
       "      <td>2</td>\n",
       "    </tr>\n",
       "    <tr>\n",
       "      <th>1</th>\n",
       "      <td>00126b32-0c35-507b-981c-02c80d2aa8e7</td>\n",
       "      <td>2</td>\n",
       "    </tr>\n",
       "    <tr>\n",
       "      <th>2</th>\n",
       "      <td>0018cfff-50a1-5984-9715-01ef2d11a49a</td>\n",
       "      <td>1</td>\n",
       "    </tr>\n",
       "    <tr>\n",
       "      <th>3</th>\n",
       "      <td>0033934b-5d16-5a06-af58-d087bcdd3680</td>\n",
       "      <td>1</td>\n",
       "    </tr>\n",
       "    <tr>\n",
       "      <th>4</th>\n",
       "      <td>0034d6cf-3bd8-5ffe-aafc-b3959fc48608</td>\n",
       "      <td>1</td>\n",
       "    </tr>\n",
       "  </tbody>\n",
       "</table>\n",
       "</div>"
      ],
      "text/plain": [
       "                                 linkid  views\n",
       "0  00073307-ae96-5089-a117-4783afb42f8e      2\n",
       "1  00126b32-0c35-507b-981c-02c80d2aa8e7      2\n",
       "2  0018cfff-50a1-5984-9715-01ef2d11a49a      1\n",
       "3  0033934b-5d16-5a06-af58-d087bcdd3680      1\n",
       "4  0034d6cf-3bd8-5ffe-aafc-b3959fc48608      1"
      ]
     },
     "execution_count": 32,
     "metadata": {},
     "output_type": "execute_result"
    }
   ],
   "source": [
    "# Filter pageview events and groupby linkid to get the count\n",
    "link_views = traffic[traffic['event']=='pageview'].groupby(by='linkid')['event'].count().reset_index()\n",
    "\n",
    "# Renaming the columns\n",
    "link_views = link_views.rename(columns={\n",
    "    \"event\":\"views\"\n",
    "})\n",
    "\n",
    "link_views.head()"
   ]
  },
  {
   "cell_type": "markdown",
   "id": "8b1e689c",
   "metadata": {},
   "source": [
    "Now let's join both the dataframe on linkid"
   ]
  },
  {
   "cell_type": "code",
   "execution_count": 19,
   "id": "c229b947",
   "metadata": {},
   "outputs": [],
   "source": [
    "clickrate = pd.merge(left=link_clicks, right=link_views, on=\"linkid\", how=\"inner\")"
   ]
  },
  {
   "cell_type": "code",
   "execution_count": 20,
   "id": "0a7ccc07",
   "metadata": {},
   "outputs": [
    {
     "data": {
      "text/html": [
       "<div>\n",
       "<style scoped>\n",
       "    .dataframe tbody tr th:only-of-type {\n",
       "        vertical-align: middle;\n",
       "    }\n",
       "\n",
       "    .dataframe tbody tr th {\n",
       "        vertical-align: top;\n",
       "    }\n",
       "\n",
       "    .dataframe thead th {\n",
       "        text-align: right;\n",
       "    }\n",
       "</style>\n",
       "<table border=\"1\" class=\"dataframe\">\n",
       "  <thead>\n",
       "    <tr style=\"text-align: right;\">\n",
       "      <th></th>\n",
       "      <th>linkid</th>\n",
       "      <th>clicks</th>\n",
       "      <th>views</th>\n",
       "    </tr>\n",
       "  </thead>\n",
       "  <tbody>\n",
       "    <tr>\n",
       "      <th>0</th>\n",
       "      <td>00126b32-0c35-507b-981c-02c80d2aa8e7</td>\n",
       "      <td>2</td>\n",
       "      <td>2</td>\n",
       "    </tr>\n",
       "    <tr>\n",
       "      <th>1</th>\n",
       "      <td>004b9724-abca-5481-b6e9-6148a7ca00a5</td>\n",
       "      <td>1</td>\n",
       "      <td>1</td>\n",
       "    </tr>\n",
       "    <tr>\n",
       "      <th>2</th>\n",
       "      <td>0063a982-41cd-5629-96d0-e1c4dd72ea11</td>\n",
       "      <td>2</td>\n",
       "      <td>3</td>\n",
       "    </tr>\n",
       "    <tr>\n",
       "      <th>3</th>\n",
       "      <td>006af6a0-1f0d-4b0c-93bf-756af9071c06</td>\n",
       "      <td>8</td>\n",
       "      <td>36</td>\n",
       "    </tr>\n",
       "    <tr>\n",
       "      <th>4</th>\n",
       "      <td>00759b81-3f04-4a61-b934-f8fb3185f4a0</td>\n",
       "      <td>3</td>\n",
       "      <td>4</td>\n",
       "    </tr>\n",
       "  </tbody>\n",
       "</table>\n",
       "</div>"
      ],
      "text/plain": [
       "                                 linkid  clicks  views\n",
       "0  00126b32-0c35-507b-981c-02c80d2aa8e7       2      2\n",
       "1  004b9724-abca-5481-b6e9-6148a7ca00a5       1      1\n",
       "2  0063a982-41cd-5629-96d0-e1c4dd72ea11       2      3\n",
       "3  006af6a0-1f0d-4b0c-93bf-756af9071c06       8     36\n",
       "4  00759b81-3f04-4a61-b934-f8fb3185f4a0       3      4"
      ]
     },
     "execution_count": 20,
     "metadata": {},
     "output_type": "execute_result"
    }
   ],
   "source": [
    "clickrate.head()"
   ]
  },
  {
   "cell_type": "markdown",
   "id": "171315bb",
   "metadata": {},
   "source": [
    "Now add a new column \"clickrate\" by dividing number of clicks by number of views"
   ]
  },
  {
   "cell_type": "code",
   "execution_count": 21,
   "id": "d11c667f",
   "metadata": {},
   "outputs": [],
   "source": [
    "clickrate['clickrate'] = round(clickrate['clicks']/clickrate['views'], 2)"
   ]
  },
  {
   "cell_type": "code",
   "execution_count": 22,
   "id": "902faa1c",
   "metadata": {},
   "outputs": [
    {
     "data": {
      "text/html": [
       "<div>\n",
       "<style scoped>\n",
       "    .dataframe tbody tr th:only-of-type {\n",
       "        vertical-align: middle;\n",
       "    }\n",
       "\n",
       "    .dataframe tbody tr th {\n",
       "        vertical-align: top;\n",
       "    }\n",
       "\n",
       "    .dataframe thead th {\n",
       "        text-align: right;\n",
       "    }\n",
       "</style>\n",
       "<table border=\"1\" class=\"dataframe\">\n",
       "  <thead>\n",
       "    <tr style=\"text-align: right;\">\n",
       "      <th></th>\n",
       "      <th>linkid</th>\n",
       "      <th>clicks</th>\n",
       "      <th>views</th>\n",
       "      <th>clickrate</th>\n",
       "    </tr>\n",
       "  </thead>\n",
       "  <tbody>\n",
       "    <tr>\n",
       "      <th>0</th>\n",
       "      <td>00126b32-0c35-507b-981c-02c80d2aa8e7</td>\n",
       "      <td>2</td>\n",
       "      <td>2</td>\n",
       "      <td>1.00</td>\n",
       "    </tr>\n",
       "    <tr>\n",
       "      <th>1</th>\n",
       "      <td>004b9724-abca-5481-b6e9-6148a7ca00a5</td>\n",
       "      <td>1</td>\n",
       "      <td>1</td>\n",
       "      <td>1.00</td>\n",
       "    </tr>\n",
       "    <tr>\n",
       "      <th>2</th>\n",
       "      <td>0063a982-41cd-5629-96d0-e1c4dd72ea11</td>\n",
       "      <td>2</td>\n",
       "      <td>3</td>\n",
       "      <td>0.67</td>\n",
       "    </tr>\n",
       "    <tr>\n",
       "      <th>3</th>\n",
       "      <td>006af6a0-1f0d-4b0c-93bf-756af9071c06</td>\n",
       "      <td>8</td>\n",
       "      <td>36</td>\n",
       "      <td>0.22</td>\n",
       "    </tr>\n",
       "    <tr>\n",
       "      <th>4</th>\n",
       "      <td>00759b81-3f04-4a61-b934-f8fb3185f4a0</td>\n",
       "      <td>3</td>\n",
       "      <td>4</td>\n",
       "      <td>0.75</td>\n",
       "    </tr>\n",
       "  </tbody>\n",
       "</table>\n",
       "</div>"
      ],
      "text/plain": [
       "                                 linkid  clicks  views  clickrate\n",
       "0  00126b32-0c35-507b-981c-02c80d2aa8e7       2      2       1.00\n",
       "1  004b9724-abca-5481-b6e9-6148a7ca00a5       1      1       1.00\n",
       "2  0063a982-41cd-5629-96d0-e1c4dd72ea11       2      3       0.67\n",
       "3  006af6a0-1f0d-4b0c-93bf-756af9071c06       8     36       0.22\n",
       "4  00759b81-3f04-4a61-b934-f8fb3185f4a0       3      4       0.75"
      ]
     },
     "execution_count": 22,
     "metadata": {},
     "output_type": "execute_result"
    }
   ],
   "source": [
    "clickrate.head()"
   ]
  },
  {
   "cell_type": "markdown",
   "id": "6d186331",
   "metadata": {},
   "source": [
    "### 5. Distribution of Clickrates"
   ]
  },
  {
   "cell_type": "markdown",
   "id": "fc68b728",
   "metadata": {},
   "source": [
    "Now let's try to understand the clickrate metric, we will use the describe method to get the descriptive statistics"
   ]
  },
  {
   "cell_type": "code",
   "execution_count": 23,
   "id": "5a55c5c2",
   "metadata": {},
   "outputs": [
    {
     "data": {
      "text/plain": [
       "count    2253.000000\n",
       "mean        0.809907\n",
       "std         1.958050\n",
       "min         0.090000\n",
       "25%         0.500000\n",
       "50%         1.000000\n",
       "75%         1.000000\n",
       "max        92.300000\n",
       "Name: clickrate, dtype: float64"
      ]
     },
     "execution_count": 23,
     "metadata": {},
     "output_type": "execute_result"
    }
   ],
   "source": [
    "clickrate['clickrate'].describe()"
   ]
  },
  {
   "cell_type": "markdown",
   "id": "5d5df2a2",
   "metadata": {},
   "source": [
    "Now let's plot this on a histogram to understand it better"
   ]
  },
  {
   "cell_type": "code",
   "execution_count": 24,
   "id": "7406186e",
   "metadata": {},
   "outputs": [
    {
     "data": {
      "text/plain": [
       "Text(0.5, 0, 'Clickrate')"
      ]
     },
     "execution_count": 24,
     "metadata": {},
     "output_type": "execute_result"
    },
    {
     "data": {
      "image/png": "[encoded data removed]",
      "text/plain": [
       "<Figure size 600x600 with 1 Axes>"
      ]
     },
     "metadata": {},
     "output_type": "display_data"
    }
   ],
   "source": [
    "ax = clickrate['clickrate'].plot(kind=\"hist\", figsize=(6,6), bins=100, title=\"Distribution of Clickrate\", xlim=(-10,10))\n",
    "ax.set_xlabel(\"Clickrate\")"
   ]
  },
  {
   "cell_type": "markdown",
   "id": "a6cb5b65",
   "metadata": {},
   "source": [
    "The data seems to skewed, let's plot it on log scale to interpret it better."
   ]
  },
  {
   "cell_type": "code",
   "execution_count": 27,
   "id": "523e3e70",
   "metadata": {},
   "outputs": [
    {
     "data": {
      "text/plain": [
       "Text(0.5, 0, 'log2(clickrate)')"
      ]
     },
     "execution_count": 27,
     "metadata": {},
     "output_type": "execute_result"
    },
    {
     "data": {
      "image/png": "[encoded data removed]",
      "text/plain": [
       "<Figure size 600x600 with 1 Axes>"
      ]
     },
     "metadata": {},
     "output_type": "display_data"
    }
   ],
   "source": [
    "clickrate['clickrate_log'] = np.log2(clickrate['clickrate'])\n",
    "ax = clickrate['clickrate_log'].plot(kind=\"hist\", figsize=(6,6), bins=100)\n",
    "ax.set_xlabel('log2(clickrate)')"
   ]
  },
  {
   "cell_type": "markdown",
   "id": "1a722dbb",
   "metadata": {},
   "source": [
    "The big spike at 0 indicates the links that were viewed and clicked once, while links that have been viewed multiple times but not clicked are the values that are lower than zero. We can try a box plot to find the outliers."
   ]
  },
  {
   "cell_type": "code",
   "execution_count": 29,
   "id": "7eea71c4",
   "metadata": {},
   "outputs": [
    {
     "data": {
      "text/plain": [
       "Text(0, 0.5, 'Value')"
      ]
     },
     "execution_count": 29,
     "metadata": {},
     "output_type": "execute_result"
    },
    {
     "data": {
      "image/png": "[encoded data removed]",
      "text/plain": [
       "<Figure size 640x480 with 1 Axes>"
      ]
     },
     "metadata": {},
     "output_type": "display_data"
    }
   ],
   "source": [
    "ax = clickrate.boxplot(column='clickrate_log')\n",
    "ax.set_ylabel(\"Value\")"
   ]
  },
  {
   "cell_type": "markdown",
   "id": "83a8ecd1",
   "metadata": {},
   "source": [
    "Here we see two outliers that are greater than zero, meaning these are the links that are clicked multiple times for same view."
   ]
  },
  {
   "cell_type": "markdown",
   "id": "3fbd54f9",
   "metadata": {},
   "source": [
    "### 6. Is there a correlation between clicks and previews"
   ]
  },
  {
   "cell_type": "markdown",
   "id": "1702ba82",
   "metadata": {},
   "source": [
    "To find out whether clicks and views are correlated or not, we create two columns that has the count of clicks and views of the links and append those columns to original data and then use pearson's r coefficient using the scipy library to determine the correlation."
   ]
  },
  {
   "cell_type": "markdown",
   "id": "b0a56f65",
   "metadata": {},
   "source": [
    "We have already created the \"link_clicks\" column, so let's create a similar column for \"preview\""
   ]
  },
  {
   "cell_type": "code",
   "execution_count": 36,
   "id": "29a28cf4",
   "metadata": {},
   "outputs": [],
   "source": [
    "preview = traffic[traffic['event'] == 'preview'].groupby(by='linkid')['event'].count().reset_index()\n",
    "preview = preview.rename(columns={\n",
    "    \"event\": \"preview\"\n",
    "})\n"
   ]
  },
  {
   "cell_type": "code",
   "execution_count": 37,
   "id": "0d621347",
   "metadata": {},
   "outputs": [
    {
     "data": {
      "text/html": [
       "<div>\n",
       "<style scoped>\n",
       "    .dataframe tbody tr th:only-of-type {\n",
       "        vertical-align: middle;\n",
       "    }\n",
       "\n",
       "    .dataframe tbody tr th {\n",
       "        vertical-align: top;\n",
       "    }\n",
       "\n",
       "    .dataframe thead th {\n",
       "        text-align: right;\n",
       "    }\n",
       "</style>\n",
       "<table border=\"1\" class=\"dataframe\">\n",
       "  <thead>\n",
       "    <tr style=\"text-align: right;\">\n",
       "      <th></th>\n",
       "      <th>linkid</th>\n",
       "      <th>preview</th>\n",
       "    </tr>\n",
       "  </thead>\n",
       "  <tbody>\n",
       "    <tr>\n",
       "      <th>0</th>\n",
       "      <td>006af6a0-1f0d-4b0c-93bf-756af9071c06</td>\n",
       "      <td>11</td>\n",
       "    </tr>\n",
       "    <tr>\n",
       "      <th>1</th>\n",
       "      <td>00759b81-3f04-4a61-b934-f8fb3185f4a0</td>\n",
       "      <td>1</td>\n",
       "    </tr>\n",
       "    <tr>\n",
       "      <th>2</th>\n",
       "      <td>00829040-ee01-4409-966d-d67c7965144a</td>\n",
       "      <td>9</td>\n",
       "    </tr>\n",
       "    <tr>\n",
       "      <th>3</th>\n",
       "      <td>00de7566-f014-4d20-8616-82e4dea45b88</td>\n",
       "      <td>1</td>\n",
       "    </tr>\n",
       "    <tr>\n",
       "      <th>4</th>\n",
       "      <td>0211bf4d-0e9d-46c2-889c-f97872280820</td>\n",
       "      <td>141</td>\n",
       "    </tr>\n",
       "  </tbody>\n",
       "</table>\n",
       "</div>"
      ],
      "text/plain": [
       "                                 linkid  preview\n",
       "0  006af6a0-1f0d-4b0c-93bf-756af9071c06       11\n",
       "1  00759b81-3f04-4a61-b934-f8fb3185f4a0        1\n",
       "2  00829040-ee01-4409-966d-d67c7965144a        9\n",
       "3  00de7566-f014-4d20-8616-82e4dea45b88        1\n",
       "4  0211bf4d-0e9d-46c2-889c-f97872280820      141"
      ]
     },
     "execution_count": 37,
     "metadata": {},
     "output_type": "execute_result"
    }
   ],
   "source": [
    "preview.head()"
   ]
  },
  {
   "cell_type": "markdown",
   "id": "bc3eb984",
   "metadata": {},
   "source": [
    "Now let's join both the columns to the original dataset."
   ]
  },
  {
   "cell_type": "code",
   "execution_count": 57,
   "id": "e025a17e",
   "metadata": {},
   "outputs": [],
   "source": [
    "traffic = pd.merge(left=traffic, right=link_clicks, how='left', on='linkid')\n",
    "traffic = pd.merge(left=traffic, right=preview, how='left', on='linkid')"
   ]
  },
  {
   "cell_type": "code",
   "execution_count": 53,
   "id": "b763a74c",
   "metadata": {},
   "outputs": [],
   "source": [
    "traffic_cor = pd.merge(left=traffic_cor, right=link_clicks, how='left', on='linkid')"
   ]
  },
  {
   "cell_type": "markdown",
   "id": "d13173ad",
   "metadata": {},
   "source": [
    "Now let's remove the rows that has pageview event so that data only contains clicks and previews"
   ]
  },
  {
   "cell_type": "code",
   "execution_count": 58,
   "id": "ffea48a5",
   "metadata": {},
   "outputs": [],
   "source": [
    "traffic = traffic[traffic['event'].isin([\"click\",\"preview\"])]"
   ]
  },
  {
   "cell_type": "markdown",
   "id": "ea48ac87",
   "metadata": {},
   "source": [
    "Drop the NA values for clicks and preview before calculating the correlation."
   ]
  },
  {
   "cell_type": "code",
   "execution_count": 61,
   "id": "1e64cc2b",
   "metadata": {},
   "outputs": [],
   "source": [
    "traffic.dropna(subset=['clicks', 'preview'], inplace=True)"
   ]
  },
  {
   "cell_type": "code",
   "execution_count": 66,
   "id": "c005bb5e",
   "metadata": {},
   "outputs": [
    {
     "data": {
      "text/html": [
       "<div>\n",
       "<style scoped>\n",
       "    .dataframe tbody tr th:only-of-type {\n",
       "        vertical-align: middle;\n",
       "    }\n",
       "\n",
       "    .dataframe tbody tr th {\n",
       "        vertical-align: top;\n",
       "    }\n",
       "\n",
       "    .dataframe thead th {\n",
       "        text-align: right;\n",
       "    }\n",
       "</style>\n",
       "<table border=\"1\" class=\"dataframe\">\n",
       "  <thead>\n",
       "    <tr style=\"text-align: right;\">\n",
       "      <th></th>\n",
       "      <th>event</th>\n",
       "      <th>date</th>\n",
       "      <th>country</th>\n",
       "      <th>city</th>\n",
       "      <th>artist</th>\n",
       "      <th>album</th>\n",
       "      <th>track</th>\n",
       "      <th>isrc</th>\n",
       "      <th>linkid</th>\n",
       "      <th>clicks</th>\n",
       "      <th>preview</th>\n",
       "    </tr>\n",
       "  </thead>\n",
       "  <tbody>\n",
       "    <tr>\n",
       "      <th>0</th>\n",
       "      <td>click</td>\n",
       "      <td>2021-08-21</td>\n",
       "      <td>Saudi Arabia</td>\n",
       "      <td>Jeddah</td>\n",
       "      <td>Tesher</td>\n",
       "      <td>Jalebi Baby</td>\n",
       "      <td>Jalebi Baby</td>\n",
       "      <td>QZNWQ2070741</td>\n",
       "      <td>2d896d31-97b6-4869-967b-1c5fb9cd4bb8</td>\n",
       "      <td>9692.0</td>\n",
       "      <td>5974.0</td>\n",
       "    </tr>\n",
       "    <tr>\n",
       "      <th>1</th>\n",
       "      <td>click</td>\n",
       "      <td>2021-08-21</td>\n",
       "      <td>Saudi Arabia</td>\n",
       "      <td>Jeddah</td>\n",
       "      <td>Tesher</td>\n",
       "      <td>Jalebi Baby</td>\n",
       "      <td>Jalebi Baby</td>\n",
       "      <td>QZNWQ2070741</td>\n",
       "      <td>2d896d31-97b6-4869-967b-1c5fb9cd4bb8</td>\n",
       "      <td>9692.0</td>\n",
       "      <td>5974.0</td>\n",
       "    </tr>\n",
       "    <tr>\n",
       "      <th>2</th>\n",
       "      <td>click</td>\n",
       "      <td>2021-08-21</td>\n",
       "      <td>India</td>\n",
       "      <td>Ludhiana</td>\n",
       "      <td>Reyanna Maria</td>\n",
       "      <td>So Pretty</td>\n",
       "      <td>So Pretty</td>\n",
       "      <td>USUM72100871</td>\n",
       "      <td>23199824-9cf5-4b98-942a-34965c3b0cc2</td>\n",
       "      <td>1187.0</td>\n",
       "      <td>718.0</td>\n",
       "    </tr>\n",
       "    <tr>\n",
       "      <th>3</th>\n",
       "      <td>click</td>\n",
       "      <td>2021-08-21</td>\n",
       "      <td>France</td>\n",
       "      <td>Unknown</td>\n",
       "      <td>Simone &amp; Simaria, Sebastian Yatra</td>\n",
       "      <td>No Llores Más</td>\n",
       "      <td>No Llores Más</td>\n",
       "      <td>BRUM72003904</td>\n",
       "      <td>35573248-4e49-47c7-af80-08a960fa74cd</td>\n",
       "      <td>69.0</td>\n",
       "      <td>30.0</td>\n",
       "    </tr>\n",
       "    <tr>\n",
       "      <th>4</th>\n",
       "      <td>click</td>\n",
       "      <td>2021-08-21</td>\n",
       "      <td>Maldives</td>\n",
       "      <td>Malé</td>\n",
       "      <td>Tesher</td>\n",
       "      <td>Jalebi Baby</td>\n",
       "      <td>Jalebi Baby</td>\n",
       "      <td>QZNWQ2070741</td>\n",
       "      <td>2d896d31-97b6-4869-967b-1c5fb9cd4bb8</td>\n",
       "      <td>9692.0</td>\n",
       "      <td>5974.0</td>\n",
       "    </tr>\n",
       "  </tbody>\n",
       "</table>\n",
       "</div>"
      ],
      "text/plain": [
       "   event        date       country      city  \\\n",
       "0  click  2021-08-21  Saudi Arabia    Jeddah   \n",
       "1  click  2021-08-21  Saudi Arabia    Jeddah   \n",
       "2  click  2021-08-21         India  Ludhiana   \n",
       "3  click  2021-08-21        France   Unknown   \n",
       "4  click  2021-08-21      Maldives      Malé   \n",
       "\n",
       "                              artist          album          track  \\\n",
       "0                             Tesher    Jalebi Baby    Jalebi Baby   \n",
       "1                             Tesher    Jalebi Baby    Jalebi Baby   \n",
       "2                      Reyanna Maria      So Pretty      So Pretty   \n",
       "3  Simone & Simaria, Sebastian Yatra  No Llores Más  No Llores Más   \n",
       "4                             Tesher    Jalebi Baby    Jalebi Baby   \n",
       "\n",
       "           isrc                                linkid  clicks  preview  \n",
       "0  QZNWQ2070741  2d896d31-97b6-4869-967b-1c5fb9cd4bb8  9692.0   5974.0  \n",
       "1  QZNWQ2070741  2d896d31-97b6-4869-967b-1c5fb9cd4bb8  9692.0   5974.0  \n",
       "2  USUM72100871  23199824-9cf5-4b98-942a-34965c3b0cc2  1187.0    718.0  \n",
       "3  BRUM72003904  35573248-4e49-47c7-af80-08a960fa74cd    69.0     30.0  \n",
       "4  QZNWQ2070741  2d896d31-97b6-4869-967b-1c5fb9cd4bb8  9692.0   5974.0  "
      ]
     },
     "execution_count": 66,
     "metadata": {},
     "output_type": "execute_result"
    }
   ],
   "source": [
    "traffic.head()"
   ]
  },
  {
   "cell_type": "markdown",
   "id": "23a1fbe3",
   "metadata": {},
   "source": [
    "Let's find the correlation between clicks and previews now"
   ]
  },
  {
   "cell_type": "code",
   "execution_count": 75,
   "id": "339493f4",
   "metadata": {},
   "outputs": [
    {
     "data": {
      "text/plain": [
       "PearsonRResult(statistic=0.9987125072008515, pvalue=0.0)"
      ]
     },
     "execution_count": 75,
     "metadata": {},
     "output_type": "execute_result"
    }
   ],
   "source": [
    "stats.pearsonr(x=traffic[\"clicks\"], y=traffic[\"preview\"])"
   ]
  },
  {
   "cell_type": "markdown",
   "id": "9b441895",
   "metadata": {},
   "source": [
    "Almost perfectly correlated. We can also quantify the relationship between categorical variables using factorize function of pandas."
   ]
  },
  {
   "cell_type": "code",
   "execution_count": 77,
   "id": "93126ce4",
   "metadata": {},
   "outputs": [
    {
     "data": {
      "text/html": [
       "<div>\n",
       "<style scoped>\n",
       "    .dataframe tbody tr th:only-of-type {\n",
       "        vertical-align: middle;\n",
       "    }\n",
       "\n",
       "    .dataframe tbody tr th {\n",
       "        vertical-align: top;\n",
       "    }\n",
       "\n",
       "    .dataframe thead th {\n",
       "        text-align: right;\n",
       "    }\n",
       "</style>\n",
       "<table border=\"1\" class=\"dataframe\">\n",
       "  <thead>\n",
       "    <tr style=\"text-align: right;\">\n",
       "      <th></th>\n",
       "      <th>country</th>\n",
       "      <th>city</th>\n",
       "      <th>artist</th>\n",
       "      <th>album</th>\n",
       "      <th>track</th>\n",
       "    </tr>\n",
       "  </thead>\n",
       "  <tbody>\n",
       "    <tr>\n",
       "      <th>country</th>\n",
       "      <td>1.000000</td>\n",
       "      <td>0.189353</td>\n",
       "      <td>0.018565</td>\n",
       "      <td>0.023316</td>\n",
       "      <td>0.024796</td>\n",
       "    </tr>\n",
       "    <tr>\n",
       "      <th>city</th>\n",
       "      <td>0.189353</td>\n",
       "      <td>1.000000</td>\n",
       "      <td>0.103752</td>\n",
       "      <td>0.108283</td>\n",
       "      <td>0.111936</td>\n",
       "    </tr>\n",
       "    <tr>\n",
       "      <th>artist</th>\n",
       "      <td>0.018565</td>\n",
       "      <td>0.103752</td>\n",
       "      <td>1.000000</td>\n",
       "      <td>0.946371</td>\n",
       "      <td>0.949177</td>\n",
       "    </tr>\n",
       "    <tr>\n",
       "      <th>album</th>\n",
       "      <td>0.023316</td>\n",
       "      <td>0.108283</td>\n",
       "      <td>0.946371</td>\n",
       "      <td>1.000000</td>\n",
       "      <td>0.976958</td>\n",
       "    </tr>\n",
       "    <tr>\n",
       "      <th>track</th>\n",
       "      <td>0.024796</td>\n",
       "      <td>0.111936</td>\n",
       "      <td>0.949177</td>\n",
       "      <td>0.976958</td>\n",
       "      <td>1.000000</td>\n",
       "    </tr>\n",
       "  </tbody>\n",
       "</table>\n",
       "</div>"
      ],
      "text/plain": [
       "          country      city    artist     album     track\n",
       "country  1.000000  0.189353  0.018565  0.023316  0.024796\n",
       "city     0.189353  1.000000  0.103752  0.108283  0.111936\n",
       "artist   0.018565  0.103752  1.000000  0.946371  0.949177\n",
       "album    0.023316  0.108283  0.946371  1.000000  0.976958\n",
       "track    0.024796  0.111936  0.949177  0.976958  1.000000"
      ]
     },
     "execution_count": 77,
     "metadata": {},
     "output_type": "execute_result"
    }
   ],
   "source": [
    "text_data = [\"country\",\n",
    "            \"city\",\n",
    "            \"artist\",\n",
    "            \"album\",\n",
    "            \"track\"]\n",
    "\n",
    "factorize_traffic = traffic[text_data].apply(lambda x: pd.factorize(x)[0]).corr()\n",
    "\n",
    "factorize_traffic"
   ]
  },
  {
   "cell_type": "markdown",
   "id": "73ae4a63",
   "metadata": {},
   "source": [
    "We observe that artist, album, and track are highly correlated which is expected, while there is no significant correlation among other variables."
   ]
  }
 ],
 "metadata": {
  "kernelspec": {
   "display_name": "Python 3 (ipykernel)",
   "language": "python",
   "name": "python3"
  },
  "language_info": {
   "codemirror_mode": {
    "name": "ipython",
    "version": 3
   },
   "file_extension": ".py",
   "mimetype": "text/x-python",
   "name": "python",
   "nbconvert_exporter": "python",
   "pygments_lexer": "ipython3",
   "version": "3.11.4"
  }
 },
 "nbformat": 4,
 "nbformat_minor": 5
}
